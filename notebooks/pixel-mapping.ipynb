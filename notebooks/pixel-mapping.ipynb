{
 "cells": [
  {
   "cell_type": "code",
   "execution_count": 1,
   "metadata": {
    "collapsed": true
   },
   "outputs": [],
   "source": [
    "import os\n",
    "\n",
    "import numpy as np\n",
    "import pandas as pd\n",
    "\n",
    "data_path = \"../datasets\""
   ]
  },
  {
   "cell_type": "code",
   "execution_count": 2,
   "outputs": [],
   "source": [
    "class_dict_df = pd.read_csv(os.path.join(data_path, \"class_dict.csv\"))\n",
    "class_codes = class_dict_df[\"name\"].values\n",
    "class_dict_df[\"pixel_value\"] = round(\n",
    "    class_dict_df[\"r\"] * 299 / 1000\n",
    "    + class_dict_df[\"g\"] * 587 / 1000\n",
    "    + class_dict_df[\"b\"] * 114 / 1000,\n",
    "    0,\n",
    ").astype(int, copy=False)"
   ],
   "metadata": {
    "collapsed": false,
    "pycharm": {
     "name": "#%%\n"
    }
   }
  },
  {
   "cell_type": "code",
   "execution_count": 6,
   "outputs": [
    {
     "data": {
      "text/plain": "               name    r    g    b  pixel_value  idx\n0           unknown    0    0    0            0    0\n1             water    0    0  255           29    1\n2         rangeland  255    0  255          105    2\n3       forest_land    0  255    0          150    3\n4        urban_land    0  255  255          179    4\n5  agriculture_land  255  255    0          226    5\n6       barren_land  255  255  255          255    6",
      "text/html": "<div>\n<style scoped>\n    .dataframe tbody tr th:only-of-type {\n        vertical-align: middle;\n    }\n\n    .dataframe tbody tr th {\n        vertical-align: top;\n    }\n\n    .dataframe thead th {\n        text-align: right;\n    }\n</style>\n<table border=\"1\" class=\"dataframe\">\n  <thead>\n    <tr style=\"text-align: right;\">\n      <th></th>\n      <th>name</th>\n      <th>r</th>\n      <th>g</th>\n      <th>b</th>\n      <th>pixel_value</th>\n      <th>idx</th>\n    </tr>\n  </thead>\n  <tbody>\n    <tr>\n      <th>0</th>\n      <td>unknown</td>\n      <td>0</td>\n      <td>0</td>\n      <td>0</td>\n      <td>0</td>\n      <td>0</td>\n    </tr>\n    <tr>\n      <th>1</th>\n      <td>water</td>\n      <td>0</td>\n      <td>0</td>\n      <td>255</td>\n      <td>29</td>\n      <td>1</td>\n    </tr>\n    <tr>\n      <th>2</th>\n      <td>rangeland</td>\n      <td>255</td>\n      <td>0</td>\n      <td>255</td>\n      <td>105</td>\n      <td>2</td>\n    </tr>\n    <tr>\n      <th>3</th>\n      <td>forest_land</td>\n      <td>0</td>\n      <td>255</td>\n      <td>0</td>\n      <td>150</td>\n      <td>3</td>\n    </tr>\n    <tr>\n      <th>4</th>\n      <td>urban_land</td>\n      <td>0</td>\n      <td>255</td>\n      <td>255</td>\n      <td>179</td>\n      <td>4</td>\n    </tr>\n    <tr>\n      <th>5</th>\n      <td>agriculture_land</td>\n      <td>255</td>\n      <td>255</td>\n      <td>0</td>\n      <td>226</td>\n      <td>5</td>\n    </tr>\n    <tr>\n      <th>6</th>\n      <td>barren_land</td>\n      <td>255</td>\n      <td>255</td>\n      <td>255</td>\n      <td>255</td>\n      <td>6</td>\n    </tr>\n  </tbody>\n</table>\n</div>"
     },
     "execution_count": 6,
     "metadata": {},
     "output_type": "execute_result"
    }
   ],
   "source": [
    "class_dict_df = class_dict_df.sort_values(\"pixel_value\").reset_index(drop=True)\n",
    "class_dict_df[\"idx\"] = class_dict_df.index\n",
    "class_dict_df"
   ],
   "metadata": {
    "collapsed": false,
    "pycharm": {
     "name": "#%%\n"
    }
   }
  },
  {
   "cell_type": "code",
   "execution_count": 7,
   "outputs": [
    {
     "data": {
      "text/plain": "{0: 0, 1: 29, 2: 105, 3: 150, 4: 179, 5: 226, 6: 255}"
     },
     "execution_count": 7,
     "metadata": {},
     "output_type": "execute_result"
    }
   ],
   "source": [
    "pixel_mapping = dict(class_dict_df[[\"idx\", \"pixel_value\"]].values.tolist())\n",
    "pixel_mapping"
   ],
   "metadata": {
    "collapsed": false,
    "pycharm": {
     "name": "#%%\n"
    }
   }
  },
  {
   "cell_type": "code",
   "execution_count": 9,
   "outputs": [
    {
     "data": {
      "text/plain": "{0: 0, 29: 1, 105: 2, 150: 3, 179: 4, 226: 5, 255: 6}"
     },
     "execution_count": 9,
     "metadata": {},
     "output_type": "execute_result"
    }
   ],
   "source": [
    "reverse_mapping = {v: k for k, v in pixel_mapping.items()}\n",
    "reverse_mapping"
   ],
   "metadata": {
    "collapsed": false,
    "pycharm": {
     "name": "#%%\n"
    }
   }
  },
  {
   "cell_type": "code",
   "execution_count": null,
   "outputs": [],
   "source": [],
   "metadata": {
    "collapsed": false,
    "pycharm": {
     "name": "#%%\n"
    }
   }
  }
 ],
 "metadata": {
  "kernelspec": {
   "display_name": "Python 3",
   "language": "python",
   "name": "python3"
  },
  "language_info": {
   "codemirror_mode": {
    "name": "ipython",
    "version": 2
   },
   "file_extension": ".py",
   "mimetype": "text/x-python",
   "name": "python",
   "nbconvert_exporter": "python",
   "pygments_lexer": "ipython2",
   "version": "2.7.6"
  }
 },
 "nbformat": 4,
 "nbformat_minor": 0
}
